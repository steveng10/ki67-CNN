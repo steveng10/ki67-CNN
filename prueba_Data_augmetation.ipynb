{
  "cells": [
    {
      "cell_type": "code",
      "execution_count": null,
      "metadata": {
        "colab": {
          "base_uri": "https://localhost:8080/"
        },
        "id": "viCHCXmFLhGv",
        "outputId": "96a4d99f-f9f1-4f61-881a-2e1e1ffdf1bb"
      },
      "outputs": [
        {
          "output_type": "stream",
          "name": "stdout",
          "text": [
            "Mounted at /content/drive\n"
          ]
        }
      ],
      "source": [
        "from google.colab import drive\n",
        "drive.mount('/content/drive')"
      ]
    },
    {
      "cell_type": "code",
      "execution_count": null,
      "metadata": {
        "id": "6fNfclktEGmr",
        "colab": {
          "base_uri": "https://localhost:8080/"
        },
        "outputId": "317aedc5-680d-4a54-887c-6b959e94a7e0"
      },
      "outputs": [
        {
          "output_type": "stream",
          "name": "stdout",
          "text": [
            "Drive already mounted at /content/drive; to attempt to forcibly remount, call drive.mount(\"/content/drive\", force_remount=True).\n"
          ]
        }
      ],
      "source": [
        "from google.colab import drive\n",
        "drive.mount('/content/drive')"
      ]
    },
    {
      "cell_type": "code",
      "execution_count": null,
      "metadata": {
        "id": "OKuvdQcLM7_h"
      },
      "outputs": [],
      "source": [
        "import pandas as pd\n",
        "import numpy as np\n",
        "import matplotlib.pyplot as plt\n",
        "import cv2\n",
        "from sklearn.model_selection import StratifiedKFold\n",
        "import tensorflow as tf\n",
        "from tensorflow.keras import datasets, layers, models\n",
        "from keras.applications.vgg16 import preprocess_input\n",
        "import sys"
      ]
    },
    {
      "cell_type": "code",
      "execution_count": null,
      "metadata": {
        "id": "e1vxPxsBMyKn"
      },
      "outputs": [],
      "source": [
        "#Functions\n",
        "\n",
        "def p2f(x):\n",
        "    return float(x.strip('%').replace(',','.'))/100"
      ]
    },
    {
      "cell_type": "code",
      "execution_count": null,
      "metadata": {
        "colab": {
          "base_uri": "https://localhost:8080/"
        },
        "id": "DDe4KqnIM-Y6",
        "outputId": "1df34699-6fc6-4fc2-8694-e7c1ec3e1a6d"
      },
      "outputs": [
        {
          "output_type": "stream",
          "name": "stdout",
          "text": [
            "Downloading data from https://storage.googleapis.com/tensorflow/keras-applications/vgg16/vgg16_weights_tf_dim_ordering_tf_kernels_notop.h5\n",
            "58892288/58889256 [==============================] - 0s 0us/step\n",
            "58900480/58889256 [==============================] - 0s 0us/step\n",
            "Model: \"sequential\"\n",
            "_________________________________________________________________\n",
            " Layer (type)                Output Shape              Param #   \n",
            "=================================================================\n",
            " vgg16 (Functional)          (None, 512)               14714688  \n",
            "                                                                 \n",
            " dropout (Dropout)           (None, 512)               0         \n",
            "                                                                 \n",
            " dense (Dense)               (None, 2)                 1026      \n",
            "                                                                 \n",
            "=================================================================\n",
            "Total params: 14,715,714\n",
            "Trainable params: 1,026\n",
            "Non-trainable params: 14,714,688\n",
            "_________________________________________________________________\n",
            "Downloading data from https://storage.googleapis.com/tensorflow/keras-applications/resnet/resnet50_weights_tf_dim_ordering_tf_kernels_notop.h5\n",
            "94773248/94765736 [==============================] - 1s 0us/step\n",
            "94781440/94765736 [==============================] - 1s 0us/step\n",
            "Model: \"sequential_1\"\n",
            "_________________________________________________________________\n",
            " Layer (type)                Output Shape              Param #   \n",
            "=================================================================\n",
            " resnet50 (Functional)       (None, 2048)              23587712  \n",
            "                                                                 \n",
            " dropout_1 (Dropout)         (None, 2048)              0         \n",
            "                                                                 \n",
            " dense_1 (Dense)             (None, 2)                 4098      \n",
            "                                                                 \n",
            "=================================================================\n",
            "Total params: 23,591,810\n",
            "Trainable params: 4,098\n",
            "Non-trainable params: 23,587,712\n",
            "_________________________________________________________________\n",
            "Downloading data from https://storage.googleapis.com/tensorflow/keras-applications/inception_v3/inception_v3_weights_tf_dim_ordering_tf_kernels_notop.h5\n",
            "87916544/87910968 [==============================] - 1s 0us/step\n",
            "87924736/87910968 [==============================] - 1s 0us/step\n",
            "Model: \"sequential_2\"\n",
            "_________________________________________________________________\n",
            " Layer (type)                Output Shape              Param #   \n",
            "=================================================================\n",
            " inception_v3 (Functional)   (None, 2048)              21802784  \n",
            "                                                                 \n",
            " dropout_2 (Dropout)         (None, 2048)              0         \n",
            "                                                                 \n",
            " dense_2 (Dense)             (None, 2)                 4098      \n",
            "                                                                 \n",
            "=================================================================\n",
            "Total params: 21,806,882\n",
            "Trainable params: 4,098\n",
            "Non-trainable params: 21,802,784\n",
            "_________________________________________________________________\n"
          ]
        }
      ],
      "source": [
        "#Models\n",
        "\n",
        "#VGG16\n",
        "\n",
        "mnet = tf.keras.applications.vgg16.VGG16(\n",
        "    include_top = False, pooling = 'avg',\n",
        "    weights = 'imagenet', input_shape = (512,512,3))\n",
        "\n",
        "model = models.Sequential([\n",
        "    mnet,\n",
        "    layers.Dropout(0.5),\n",
        "    layers.Dense(2,activation = 'softmax')])  \n",
        "    \n",
        "model.layers[0].trainable = False   \n",
        "model.compile(optimizer='adam',\n",
        "              loss='sparse_categorical_crossentropy',\n",
        "              metrics=['accuracy']) \n",
        "model.summary()\n",
        "\n",
        "#ResNet\n",
        "\n",
        "mnet2 = tf.keras.applications.ResNet50(\n",
        "          include_top = False, pooling = 'avg',\n",
        "          weights = 'imagenet', input_shape = (512,512,3)\n",
        "  )\n",
        "\n",
        "model2 = models.Sequential([\n",
        "    mnet2,\n",
        "    layers.Dropout(0.5),\n",
        "    layers.Dense(2,activation = 'softmax')])  \n",
        "    \n",
        "model2.layers[0].trainable = False   \n",
        "model2.compile(optimizer='adam',\n",
        "              loss='sparse_categorical_crossentropy',\n",
        "              metrics=['accuracy']) \n",
        "model2.summary()\n",
        "\n",
        "#Inception\n",
        "\n",
        "mnet3 = tf.keras.applications.InceptionV3(\n",
        "          include_top = False, pooling = 'avg',\n",
        "          weights = 'imagenet', input_shape = (512,512,3)\n",
        "      )\n",
        "\n",
        "model3 = models.Sequential([\n",
        "    mnet3,\n",
        "    layers.Dropout(0.5),\n",
        "    layers.Dense(2,activation = 'softmax')])  \n",
        "    \n",
        "model3.layers[0].trainable = False   \n",
        "model3.compile(optimizer='adam',\n",
        "              loss='sparse_categorical_crossentropy',\n",
        "              metrics=['accuracy']) \n",
        "model3.summary()"
      ]
    },
    {
      "cell_type": "code",
      "execution_count": null,
      "metadata": {
        "id": "DdUY23j9NAtU"
      },
      "outputs": [],
      "source": [
        "# Create dataframe\n",
        "background_dataframe = pd.read_csv('/content/drive/MyDrive/Tesis_StevenGarcia/Dataset/etiquetas_ki67_Colab.csv', sep=';', converters={'Porcentaje':p2f}) # read dataframe\n",
        "background_dataframe['label'] = background_dataframe['Porcentaje']  > 0.5 # Add label column\n",
        "df_ki67 = background_dataframe.drop(['Campo', 'Porcentaje'], axis=1) # drop columns\n",
        "df_ki67[\"label\"] = df_ki67[\"label\"].astype(int)\n",
        "NaN = np.nan\n",
        "df_ki67['Data_img'] = NaN\n",
        "df_ki67['Data_img'] = df_ki67['Data_img'].astype(object)\n",
        "\n",
        "# Load images\n",
        "cant_imag = df_ki67.shape[0] # images quantity\n",
        "images = [] #redimensionar la imagen a 512\n",
        "width = 512\n",
        "height = 512\n",
        "dsize = (width, height)\n",
        "\n",
        "#Add a Image(Array) into a unique row in a Dataframe\n",
        "for i in range(len(df_ki67)):\n",
        "    img_path = cv2.imread(df_ki67['Path'].loc[i] , 1)\n",
        "    img_res = cv2.COLOR_BGR2RGB\n",
        "    img_res = cv2.resize(img_path,dsize)\n",
        "    img_res = img_res/255\n",
        "    df_ki67.at[i, 'Data_img'] = np.asarray(img_res)\n"
      ]
    },
    {
      "cell_type": "code",
      "execution_count": null,
      "metadata": {
        "colab": {
          "base_uri": "https://localhost:8080/",
          "height": 206
        },
        "id": "2iv5VDION6kw",
        "outputId": "1ee0a1c2-36d9-4216-d8c9-d51971bec226"
      },
      "outputs": [
        {
          "output_type": "execute_result",
          "data": {
            "text/plain": [
              "                                                Path  label  \\\n",
              "0  /content/drive/MyDrive/Tesis_StevenGarcia/Data...      0   \n",
              "1  /content/drive/MyDrive/Tesis_StevenGarcia/Data...      0   \n",
              "2  /content/drive/MyDrive/Tesis_StevenGarcia/Data...      0   \n",
              "3  /content/drive/MyDrive/Tesis_StevenGarcia/Data...      0   \n",
              "4  /content/drive/MyDrive/Tesis_StevenGarcia/Data...      0   \n",
              "\n",
              "                                            Data_img  \n",
              "0  [[[0.38823529411764707, 0.34901960784313724, 0...  \n",
              "1  [[[0.4980392156862745, 0.5411764705882353, 0.4...  \n",
              "2  [[[0.2901960784313726, 0.2549019607843137, 0.1...  \n",
              "3  [[[0.41568627450980394, 0.33725490196078434, 0...  \n",
              "4  [[[0.5529411764705883, 0.6078431372549019, 0.4...  "
            ],
            "text/html": [
              "\n",
              "  <div id=\"df-4308dd5b-6fa6-49ee-826d-7a4a3e0e6f70\">\n",
              "    <div class=\"colab-df-container\">\n",
              "      <div>\n",
              "<style scoped>\n",
              "    .dataframe tbody tr th:only-of-type {\n",
              "        vertical-align: middle;\n",
              "    }\n",
              "\n",
              "    .dataframe tbody tr th {\n",
              "        vertical-align: top;\n",
              "    }\n",
              "\n",
              "    .dataframe thead th {\n",
              "        text-align: right;\n",
              "    }\n",
              "</style>\n",
              "<table border=\"1\" class=\"dataframe\">\n",
              "  <thead>\n",
              "    <tr style=\"text-align: right;\">\n",
              "      <th></th>\n",
              "      <th>Path</th>\n",
              "      <th>label</th>\n",
              "      <th>Data_img</th>\n",
              "    </tr>\n",
              "  </thead>\n",
              "  <tbody>\n",
              "    <tr>\n",
              "      <th>0</th>\n",
              "      <td>/content/drive/MyDrive/Tesis_StevenGarcia/Data...</td>\n",
              "      <td>0</td>\n",
              "      <td>[[[0.38823529411764707, 0.34901960784313724, 0...</td>\n",
              "    </tr>\n",
              "    <tr>\n",
              "      <th>1</th>\n",
              "      <td>/content/drive/MyDrive/Tesis_StevenGarcia/Data...</td>\n",
              "      <td>0</td>\n",
              "      <td>[[[0.4980392156862745, 0.5411764705882353, 0.4...</td>\n",
              "    </tr>\n",
              "    <tr>\n",
              "      <th>2</th>\n",
              "      <td>/content/drive/MyDrive/Tesis_StevenGarcia/Data...</td>\n",
              "      <td>0</td>\n",
              "      <td>[[[0.2901960784313726, 0.2549019607843137, 0.1...</td>\n",
              "    </tr>\n",
              "    <tr>\n",
              "      <th>3</th>\n",
              "      <td>/content/drive/MyDrive/Tesis_StevenGarcia/Data...</td>\n",
              "      <td>0</td>\n",
              "      <td>[[[0.41568627450980394, 0.33725490196078434, 0...</td>\n",
              "    </tr>\n",
              "    <tr>\n",
              "      <th>4</th>\n",
              "      <td>/content/drive/MyDrive/Tesis_StevenGarcia/Data...</td>\n",
              "      <td>0</td>\n",
              "      <td>[[[0.5529411764705883, 0.6078431372549019, 0.4...</td>\n",
              "    </tr>\n",
              "  </tbody>\n",
              "</table>\n",
              "</div>\n",
              "      <button class=\"colab-df-convert\" onclick=\"convertToInteractive('df-4308dd5b-6fa6-49ee-826d-7a4a3e0e6f70')\"\n",
              "              title=\"Convert this dataframe to an interactive table.\"\n",
              "              style=\"display:none;\">\n",
              "        \n",
              "  <svg xmlns=\"http://www.w3.org/2000/svg\" height=\"24px\"viewBox=\"0 0 24 24\"\n",
              "       width=\"24px\">\n",
              "    <path d=\"M0 0h24v24H0V0z\" fill=\"none\"/>\n",
              "    <path d=\"M18.56 5.44l.94 2.06.94-2.06 2.06-.94-2.06-.94-.94-2.06-.94 2.06-2.06.94zm-11 1L8.5 8.5l.94-2.06 2.06-.94-2.06-.94L8.5 2.5l-.94 2.06-2.06.94zm10 10l.94 2.06.94-2.06 2.06-.94-2.06-.94-.94-2.06-.94 2.06-2.06.94z\"/><path d=\"M17.41 7.96l-1.37-1.37c-.4-.4-.92-.59-1.43-.59-.52 0-1.04.2-1.43.59L10.3 9.45l-7.72 7.72c-.78.78-.78 2.05 0 2.83L4 21.41c.39.39.9.59 1.41.59.51 0 1.02-.2 1.41-.59l7.78-7.78 2.81-2.81c.8-.78.8-2.07 0-2.86zM5.41 20L4 18.59l7.72-7.72 1.47 1.35L5.41 20z\"/>\n",
              "  </svg>\n",
              "      </button>\n",
              "      \n",
              "  <style>\n",
              "    .colab-df-container {\n",
              "      display:flex;\n",
              "      flex-wrap:wrap;\n",
              "      gap: 12px;\n",
              "    }\n",
              "\n",
              "    .colab-df-convert {\n",
              "      background-color: #E8F0FE;\n",
              "      border: none;\n",
              "      border-radius: 50%;\n",
              "      cursor: pointer;\n",
              "      display: none;\n",
              "      fill: #1967D2;\n",
              "      height: 32px;\n",
              "      padding: 0 0 0 0;\n",
              "      width: 32px;\n",
              "    }\n",
              "\n",
              "    .colab-df-convert:hover {\n",
              "      background-color: #E2EBFA;\n",
              "      box-shadow: 0px 1px 2px rgba(60, 64, 67, 0.3), 0px 1px 3px 1px rgba(60, 64, 67, 0.15);\n",
              "      fill: #174EA6;\n",
              "    }\n",
              "\n",
              "    [theme=dark] .colab-df-convert {\n",
              "      background-color: #3B4455;\n",
              "      fill: #D2E3FC;\n",
              "    }\n",
              "\n",
              "    [theme=dark] .colab-df-convert:hover {\n",
              "      background-color: #434B5C;\n",
              "      box-shadow: 0px 1px 3px 1px rgba(0, 0, 0, 0.15);\n",
              "      filter: drop-shadow(0px 1px 2px rgba(0, 0, 0, 0.3));\n",
              "      fill: #FFFFFF;\n",
              "    }\n",
              "  </style>\n",
              "\n",
              "      <script>\n",
              "        const buttonEl =\n",
              "          document.querySelector('#df-4308dd5b-6fa6-49ee-826d-7a4a3e0e6f70 button.colab-df-convert');\n",
              "        buttonEl.style.display =\n",
              "          google.colab.kernel.accessAllowed ? 'block' : 'none';\n",
              "\n",
              "        async function convertToInteractive(key) {\n",
              "          const element = document.querySelector('#df-4308dd5b-6fa6-49ee-826d-7a4a3e0e6f70');\n",
              "          const dataTable =\n",
              "            await google.colab.kernel.invokeFunction('convertToInteractive',\n",
              "                                                     [key], {});\n",
              "          if (!dataTable) return;\n",
              "\n",
              "          const docLinkHtml = 'Like what you see? Visit the ' +\n",
              "            '<a target=\"_blank\" href=https://colab.research.google.com/notebooks/data_table.ipynb>data table notebook</a>'\n",
              "            + ' to learn more about interactive tables.';\n",
              "          element.innerHTML = '';\n",
              "          dataTable['output_type'] = 'display_data';\n",
              "          await google.colab.output.renderOutput(dataTable, element);\n",
              "          const docLink = document.createElement('div');\n",
              "          docLink.innerHTML = docLinkHtml;\n",
              "          element.appendChild(docLink);\n",
              "        }\n",
              "      </script>\n",
              "    </div>\n",
              "  </div>\n",
              "  "
            ]
          },
          "metadata": {},
          "execution_count": 10
        }
      ],
      "source": [
        "df_ki67.head()"
      ]
    },
    {
      "cell_type": "code",
      "execution_count": null,
      "metadata": {
        "id": "_s94S0OfRRBm"
      },
      "outputs": [],
      "source": [
        "X = np.zeros((len(df_ki67), width,height,3))\n",
        "y = np.zeros((len(df_ki67), 1))\n",
        "\n",
        "skf = StratifiedKFold(n_splits = 10, shuffle= True ,random_state = 1) #cambie el valor de suffle a True, en False daba error\n",
        "\n",
        "for i in range(len(df_ki67)):\n",
        "  X[i] = df_ki67['Data_img'].loc[i]\n",
        "  y[i] = df_ki67['label'].loc[i]\n"
      ]
    },
    {
      "cell_type": "code",
      "execution_count": null,
      "metadata": {
        "colab": {
          "base_uri": "https://localhost:8080/"
        },
        "id": "fTSusddsBvdt",
        "outputId": "c7346eba-44b3-4a30-ffce-8ad54392f725"
      },
      "outputs": [
        {
          "output_type": "stream",
          "name": "stdout",
          "text": [
            "******************************************************************************\n",
            "[ 1  3  4  5  6  7  8  9 10 11 12 13 14 15 17 18 19 20 21 22 23 24 25 26\n",
            " 27 28 29 30 31 32 33 34 35 36 37 38 39 40 42 43 44 46 47 48 49 50 51 52\n",
            " 53 54 55 56 57 58 59 60 61 62 63 64 65 67 68 69 71 72 73 74 75 76 78 79\n",
            " 80 82 83 84 85 86 87 88 89]\n",
            "[ 0  2 16 41 45 66 70 77 81]\n",
            "******************************************************************************\n",
            "----------------VGG16---------------------\n",
            "Epoch 1/5\n",
            "3/3 - 39s - loss: 0.7181 - accuracy: 0.5679 - val_loss: 0.6573 - val_accuracy: 0.5556 - 39s/epoch - 13s/step\n",
            "Epoch 2/5\n",
            "3/3 - 3s - loss: 0.7234 - accuracy: 0.5432 - val_loss: 0.6483 - val_accuracy: 0.5556 - 3s/epoch - 855ms/step\n",
            "Epoch 3/5\n",
            "3/3 - 3s - loss: 0.7027 - accuracy: 0.5679 - val_loss: 0.6389 - val_accuracy: 0.5556 - 3s/epoch - 866ms/step\n",
            "Epoch 4/5\n",
            "3/3 - 3s - loss: 0.6518 - accuracy: 0.6420 - val_loss: 0.6317 - val_accuracy: 0.5556 - 3s/epoch - 866ms/step\n",
            "Epoch 5/5\n",
            "3/3 - 3s - loss: 0.7456 - accuracy: 0.4815 - val_loss: 0.6237 - val_accuracy: 0.5556 - 3s/epoch - 861ms/step\n",
            "1/1 [==============================] - 0s 441ms/step - loss: 0.6237 - accuracy: 0.5556\n",
            "******************************************************************************\n",
            "[ 0  1  2  3  4  5  6  7  8  9 10 11 12 13 14 15 16 17 18 19 20 21 23 24\n",
            " 25 26 27 28 29 30 31 32 33 34 35 37 38 40 41 42 43 44 45 46 47 48 50 52\n",
            " 53 54 56 57 58 59 60 61 62 63 64 65 66 67 68 69 70 71 72 73 74 75 76 77\n",
            " 78 79 81 83 84 85 86 87 88]\n",
            "[22 36 39 49 51 55 80 82 89]\n",
            "******************************************************************************\n",
            "----------------VGG16---------------------\n",
            "Epoch 1/5\n",
            "3/3 - 3s - loss: 0.5986 - accuracy: 0.7037 - val_loss: 0.6311 - val_accuracy: 0.5556 - 3s/epoch - 846ms/step\n",
            "Epoch 2/5\n",
            "3/3 - 2s - loss: 0.6249 - accuracy: 0.6543 - val_loss: 0.6197 - val_accuracy: 0.5556 - 2s/epoch - 826ms/step\n",
            "Epoch 3/5\n",
            "3/3 - 2s - loss: 0.6870 - accuracy: 0.5556 - val_loss: 0.6083 - val_accuracy: 0.5556 - 2s/epoch - 833ms/step\n",
            "Epoch 4/5\n",
            "3/3 - 3s - loss: 0.6420 - accuracy: 0.6543 - val_loss: 0.5972 - val_accuracy: 0.5556 - 3s/epoch - 837ms/step\n",
            "Epoch 5/5\n",
            "3/3 - 3s - loss: 0.5895 - accuracy: 0.6790 - val_loss: 0.5870 - val_accuracy: 0.6667 - 3s/epoch - 836ms/step\n",
            "1/1 [==============================] - 0s 346ms/step - loss: 0.5870 - accuracy: 0.6667\n",
            "******************************************************************************\n",
            "[ 0  1  2  3  4  5  6  7  8  9 10 11 12 13 14 15 16 17 18 19 20 21 22 23\n",
            " 26 27 29 30 31 32 33 34 35 36 37 38 39 40 41 43 44 45 46 47 48 49 50 51\n",
            " 52 53 54 55 56 57 58 59 63 64 65 66 67 68 69 70 71 72 73 74 76 77 78 79\n",
            " 80 81 82 83 84 85 86 88 89]\n",
            "[24 25 28 42 60 61 62 75 87]\n",
            "******************************************************************************\n",
            "----------------VGG16---------------------\n",
            "Epoch 1/5\n",
            "3/3 - 3s - loss: 0.6415 - accuracy: 0.5926 - val_loss: 0.5900 - val_accuracy: 1.0000 - 3s/epoch - 868ms/step\n",
            "Epoch 2/5\n",
            "3/3 - 3s - loss: 0.6509 - accuracy: 0.5926 - val_loss: 0.5828 - val_accuracy: 1.0000 - 3s/epoch - 848ms/step\n",
            "Epoch 3/5\n",
            "3/3 - 3s - loss: 0.5850 - accuracy: 0.6543 - val_loss: 0.5757 - val_accuracy: 1.0000 - 3s/epoch - 853ms/step\n",
            "Epoch 4/5\n",
            "3/3 - 3s - loss: 0.5974 - accuracy: 0.6667 - val_loss: 0.5687 - val_accuracy: 1.0000 - 3s/epoch - 863ms/step\n",
            "Epoch 5/5\n",
            "3/3 - 3s - loss: 0.5291 - accuracy: 0.7778 - val_loss: 0.5620 - val_accuracy: 1.0000 - 3s/epoch - 862ms/step\n",
            "1/1 [==============================] - 0s 359ms/step - loss: 0.5620 - accuracy: 1.0000\n",
            "******************************************************************************\n",
            "[ 0  1  2  3  4  5  6  7  8  9 10 11 12 13 14 16 17 18 19 20 21 22 24 25\n",
            " 27 28 29 30 31 32 33 34 35 36 38 39 40 41 42 43 44 45 46 47 49 50 51 52\n",
            " 53 54 55 56 57 58 59 60 61 62 64 65 66 67 68 69 70 74 75 76 77 78 79 80\n",
            " 81 82 83 84 85 86 87 88 89]\n",
            "[15 23 26 37 48 63 71 72 73]\n",
            "******************************************************************************\n",
            "----------------VGG16---------------------\n",
            "Epoch 1/5\n",
            "3/3 - 3s - loss: 0.5715 - accuracy: 0.6914 - val_loss: 0.5975 - val_accuracy: 0.7778 - 3s/epoch - 879ms/step\n",
            "Epoch 2/5\n",
            "3/3 - 3s - loss: 0.5653 - accuracy: 0.7160 - val_loss: 0.5928 - val_accuracy: 0.7778 - 3s/epoch - 855ms/step\n",
            "Epoch 3/5\n",
            "3/3 - 3s - loss: 0.5703 - accuracy: 0.6914 - val_loss: 0.5884 - val_accuracy: 0.8889 - 3s/epoch - 857ms/step\n",
            "Epoch 4/5\n",
            "3/3 - 3s - loss: 0.5811 - accuracy: 0.6790 - val_loss: 0.5842 - val_accuracy: 0.8889 - 3s/epoch - 859ms/step\n",
            "Epoch 5/5\n",
            "3/3 - 3s - loss: 0.5090 - accuracy: 0.8148 - val_loss: 0.5799 - val_accuracy: 0.8889 - 3s/epoch - 859ms/step\n",
            "1/1 [==============================] - 0s 306ms/step - loss: 0.5799 - accuracy: 0.8889\n",
            "******************************************************************************\n",
            "[ 0  1  2  3  4  5  6  7  9 10 12 13 14 15 16 17 18 19 20 21 22 23 24 25\n",
            " 26 27 28 29 30 31 32 33 35 36 37 39 40 41 42 44 45 46 47 48 49 50 51 52\n",
            " 53 54 55 57 58 59 60 61 62 63 64 66 67 68 69 70 71 72 73 74 75 76 77 78\n",
            " 80 81 82 83 84 85 86 87 89]\n",
            "[ 8 11 34 38 43 56 65 79 88]\n",
            "******************************************************************************\n",
            "----------------VGG16---------------------\n",
            "Epoch 1/5\n",
            "3/3 - 3s - loss: 0.5476 - accuracy: 0.7654 - val_loss: 0.4911 - val_accuracy: 0.7778 - 3s/epoch - 882ms/step\n",
            "Epoch 2/5\n",
            "3/3 - 3s - loss: 0.5419 - accuracy: 0.7037 - val_loss: 0.4856 - val_accuracy: 0.7778 - 3s/epoch - 852ms/step\n",
            "Epoch 3/5\n",
            "3/3 - 3s - loss: 0.5557 - accuracy: 0.6790 - val_loss: 0.4808 - val_accuracy: 0.7778 - 3s/epoch - 851ms/step\n",
            "Epoch 4/5\n",
            "3/3 - 3s - loss: 0.5370 - accuracy: 0.6914 - val_loss: 0.4764 - val_accuracy: 0.7778 - 3s/epoch - 850ms/step\n",
            "Epoch 5/5\n",
            "3/3 - 3s - loss: 0.5541 - accuracy: 0.7037 - val_loss: 0.4708 - val_accuracy: 0.7778 - 3s/epoch - 848ms/step\n",
            "1/1 [==============================] - 0s 370ms/step - loss: 0.4708 - accuracy: 0.7778\n",
            "******************************************************************************\n",
            "[ 0  1  2  4  5  7  8  9 10 11 12 13 14 15 16 17 18 20 21 22 23 24 25 26\n",
            " 27 28 30 32 34 35 36 37 38 39 40 41 42 43 45 46 47 48 49 50 51 52 53 54\n",
            " 55 56 57 58 59 60 61 62 63 64 65 66 67 69 70 71 72 73 75 76 77 78 79 80\n",
            " 81 82 83 84 85 86 87 88 89]\n",
            "[ 3  6 19 29 31 33 44 68 74]\n",
            "******************************************************************************\n",
            "----------------VGG16---------------------\n",
            "Epoch 1/5\n",
            "3/3 - 3s - loss: 0.5267 - accuracy: 0.7407 - val_loss: 0.5652 - val_accuracy: 0.7778 - 3s/epoch - 855ms/step\n",
            "Epoch 2/5\n",
            "3/3 - 2s - loss: 0.4980 - accuracy: 0.7407 - val_loss: 0.5625 - val_accuracy: 0.7778 - 2s/epoch - 831ms/step\n",
            "Epoch 3/5\n",
            "3/3 - 3s - loss: 0.5609 - accuracy: 0.6914 - val_loss: 0.5599 - val_accuracy: 0.7778 - 3s/epoch - 835ms/step\n",
            "Epoch 4/5\n",
            "3/3 - 3s - loss: 0.5136 - accuracy: 0.7901 - val_loss: 0.5573 - val_accuracy: 0.7778 - 3s/epoch - 839ms/step\n",
            "Epoch 5/5\n",
            "3/3 - 2s - loss: 0.5041 - accuracy: 0.7531 - val_loss: 0.5552 - val_accuracy: 0.7778 - 2s/epoch - 831ms/step\n",
            "1/1 [==============================] - 0s 297ms/step - loss: 0.5552 - accuracy: 0.7778\n",
            "******************************************************************************\n",
            "[ 0  1  2  3  6  7  8 10 11 12 13 14 15 16 17 19 20 22 23 24 25 26 27 28\n",
            " 29 30 31 32 33 34 35 36 37 38 39 40 41 42 43 44 45 47 48 49 50 51 53 54\n",
            " 55 56 57 58 59 60 61 62 63 64 65 66 68 69 70 71 72 73 74 75 76 77 78 79\n",
            " 80 81 82 84 85 86 87 88 89]\n",
            "[ 4  5  9 18 21 46 52 67 83]\n",
            "******************************************************************************\n",
            "----------------VGG16---------------------\n",
            "Epoch 1/5\n",
            "3/3 - 3s - loss: 0.5080 - accuracy: 0.7284 - val_loss: 0.4672 - val_accuracy: 0.7778 - 3s/epoch - 860ms/step\n",
            "Epoch 2/5\n",
            "3/3 - 3s - loss: 0.4929 - accuracy: 0.7901 - val_loss: 0.4648 - val_accuracy: 0.7778 - 3s/epoch - 837ms/step\n",
            "Epoch 3/5\n",
            "3/3 - 3s - loss: 0.4910 - accuracy: 0.7901 - val_loss: 0.4625 - val_accuracy: 0.7778 - 3s/epoch - 845ms/step\n",
            "Epoch 4/5\n",
            "3/3 - 3s - loss: 0.5090 - accuracy: 0.7037 - val_loss: 0.4602 - val_accuracy: 0.7778 - 3s/epoch - 851ms/step\n",
            "Epoch 5/5\n",
            "3/3 - 3s - loss: 0.5252 - accuracy: 0.7037 - val_loss: 0.4579 - val_accuracy: 0.7778 - 3s/epoch - 849ms/step\n",
            "1/1 [==============================] - 0s 351ms/step - loss: 0.4579 - accuracy: 0.7778\n",
            "******************************************************************************\n",
            "[ 0  2  3  4  5  6  7  8  9 11 13 14 15 16 18 19 21 22 23 24 25 26 27 28\n",
            " 29 30 31 32 33 34 36 37 38 39 40 41 42 43 44 45 46 48 49 50 51 52 54 55\n",
            " 56 57 58 59 60 61 62 63 64 65 66 67 68 70 71 72 73 74 75 76 77 78 79 80\n",
            " 81 82 83 84 85 86 87 88 89]\n",
            "[ 1 10 12 17 20 35 47 53 69]\n",
            "******************************************************************************\n",
            "----------------VGG16---------------------\n",
            "Epoch 1/5\n",
            "3/3 - 3s - loss: 0.4504 - accuracy: 0.7654 - val_loss: 0.5952 - val_accuracy: 0.5556 - 3s/epoch - 865ms/step\n",
            "Epoch 2/5\n",
            "3/3 - 3s - loss: 0.4863 - accuracy: 0.7901 - val_loss: 0.5950 - val_accuracy: 0.5556 - 3s/epoch - 841ms/step\n",
            "Epoch 3/5\n",
            "3/3 - 3s - loss: 0.4769 - accuracy: 0.8025 - val_loss: 0.5948 - val_accuracy: 0.4444 - 3s/epoch - 851ms/step\n",
            "Epoch 4/5\n",
            "3/3 - 3s - loss: 0.4443 - accuracy: 0.8148 - val_loss: 0.5950 - val_accuracy: 0.4444 - 3s/epoch - 858ms/step\n",
            "Epoch 5/5\n",
            "3/3 - 3s - loss: 0.4224 - accuracy: 0.8519 - val_loss: 0.5955 - val_accuracy: 0.4444 - 3s/epoch - 856ms/step\n",
            "1/1 [==============================] - 0s 344ms/step - loss: 0.5955 - accuracy: 0.4444\n",
            "******************************************************************************\n",
            "[ 0  1  2  3  4  5  6  7  8  9 10 11 12 14 15 16 17 18 19 20 21 22 23 24\n",
            " 25 26 28 29 31 33 34 35 36 37 38 39 40 41 42 43 44 45 46 47 48 49 50 51\n",
            " 52 53 55 56 57 60 61 62 63 64 65 66 67 68 69 70 71 72 73 74 75 76 77 79\n",
            " 80 81 82 83 84 86 87 88 89]\n",
            "[13 27 30 32 54 58 59 78 85]\n",
            "******************************************************************************\n",
            "----------------VGG16---------------------\n",
            "Epoch 1/5\n",
            "3/3 - 3s - loss: 0.4819 - accuracy: 0.7407 - val_loss: 0.3242 - val_accuracy: 1.0000 - 3s/epoch - 873ms/step\n",
            "Epoch 2/5\n",
            "3/3 - 3s - loss: 0.4788 - accuracy: 0.8272 - val_loss: 0.3212 - val_accuracy: 1.0000 - 3s/epoch - 852ms/step\n",
            "Epoch 3/5\n",
            "3/3 - 3s - loss: 0.4846 - accuracy: 0.7654 - val_loss: 0.3205 - val_accuracy: 1.0000 - 3s/epoch - 858ms/step\n",
            "Epoch 4/5\n",
            "3/3 - 3s - loss: 0.4640 - accuracy: 0.8272 - val_loss: 0.3184 - val_accuracy: 1.0000 - 3s/epoch - 857ms/step\n",
            "Epoch 5/5\n",
            "3/3 - 3s - loss: 0.4845 - accuracy: 0.7901 - val_loss: 0.3174 - val_accuracy: 1.0000 - 3s/epoch - 855ms/step\n",
            "1/1 [==============================] - 0s 303ms/step - loss: 0.3174 - accuracy: 1.0000\n",
            "******************************************************************************\n",
            "[ 0  1  2  3  4  5  6  8  9 10 11 12 13 15 16 17 18 19 20 21 22 23 24 25\n",
            " 26 27 28 29 30 31 32 33 34 35 36 37 38 39 41 42 43 44 45 46 47 48 49 51\n",
            " 52 53 54 55 56 58 59 60 61 62 63 65 66 67 68 69 70 71 72 73 74 75 77 78\n",
            " 79 80 81 82 83 85 87 88 89]\n",
            "[ 7 14 40 50 57 64 76 84 86]\n",
            "******************************************************************************\n",
            "----------------VGG16---------------------\n",
            "Epoch 1/5\n",
            "3/3 - 3s - loss: 0.5068 - accuracy: 0.7778 - val_loss: 0.3517 - val_accuracy: 1.0000 - 3s/epoch - 880ms/step\n",
            "Epoch 2/5\n",
            "3/3 - 3s - loss: 0.4561 - accuracy: 0.8395 - val_loss: 0.3475 - val_accuracy: 1.0000 - 3s/epoch - 856ms/step\n",
            "Epoch 3/5\n",
            "3/3 - 3s - loss: 0.4969 - accuracy: 0.7654 - val_loss: 0.3438 - val_accuracy: 1.0000 - 3s/epoch - 857ms/step\n",
            "Epoch 4/5\n",
            "3/3 - 3s - loss: 0.4665 - accuracy: 0.7901 - val_loss: 0.3394 - val_accuracy: 0.8889 - 3s/epoch - 852ms/step\n",
            "Epoch 5/5\n",
            "3/3 - 3s - loss: 0.4251 - accuracy: 0.8395 - val_loss: 0.3363 - val_accuracy: 0.8889 - 3s/epoch - 857ms/step\n",
            "1/1 [==============================] - 0s 302ms/step - loss: 0.3363 - accuracy: 0.8889\n"
          ]
        }
      ],
      "source": [
        "saves = []\n",
        "\n",
        "for train_index, test_index in skf.split(X,y):\n",
        "  X_train, X_test = X[train_index], X[test_index]\n",
        "  y_train, y_test = y[train_index], y[test_index]\n",
        "\n",
        "  print(\"******************************************************************************\")\n",
        "  print(train_index)\n",
        "  print(test_index)\n",
        "  print(\"******************************************************************************\")\n",
        "\n",
        "  print(\"----------------VGG16---------------------\")\n",
        "  history = model.fit(X_train,\n",
        "            y_train,\n",
        "            epochs=5,\n",
        "            validation_data = (X_test, y_test), verbose = 2\n",
        "            )\n",
        "  \n",
        "  test_loss, test_acc = model.evaluate(X_test, y_test)\n",
        "  saves.append(test_acc)\n"
      ]
    },
    {
      "cell_type": "code",
      "execution_count": null,
      "metadata": {
        "colab": {
          "base_uri": "https://localhost:8080/"
        },
        "id": "MsefVmAgEl92",
        "outputId": "741e67eb-c1d9-4a20-8468-919b4c4f4c58"
      },
      "outputs": [
        {
          "output_type": "stream",
          "name": "stdout",
          "text": [
            "1/1 [==============================] - 0s 361ms/step - loss: 0.3363 - accuracy: 0.8889\n"
          ]
        },
        {
          "output_type": "execute_result",
          "data": {
            "text/plain": [
              "[0.3362772762775421, 0.8888888955116272]"
            ]
          },
          "metadata": {},
          "execution_count": 18
        }
      ],
      "source": [
        "model.evaluate(X_test,y_test)"
      ]
    },
    {
      "cell_type": "code",
      "execution_count": null,
      "metadata": {
        "colab": {
          "base_uri": "https://localhost:8080/"
        },
        "id": "WDlbtB-BFBsn",
        "outputId": "a28fdf21-5202-48b3-ec8a-8d11c35edbf2"
      },
      "outputs": [
        {
          "data": {
            "text/plain": [
              "array([[0.6554702, 0.3445298]], dtype=float32)"
            ]
          },
          "execution_count": 15,
          "metadata": {},
          "output_type": "execute_result"
        }
      ],
      "source": [
        "y_pred = model.predict(X_test)\n",
        "y_pred[:1]"
      ]
    },
    {
      "cell_type": "code",
      "execution_count": null,
      "metadata": {
        "colab": {
          "base_uri": "https://localhost:8080/",
          "height": 590
        },
        "id": "tX1ADZyOB9qL",
        "outputId": "368f3559-a390-4b6a-b50d-8077b7eeaa80"
      },
      "outputs": [
        {
          "output_type": "stream",
          "name": "stdout",
          "text": [
            "----------------VGG16---------------------\n"
          ]
        },
        {
          "output_type": "display_data",
          "data": {
            "text/plain": [
              "<Figure size 432x288 with 1 Axes>"
            ],
            "image/png": "[encoded data removed]"
          },
          "metadata": {
            "needs_background": "light"
          }
        },
        {
          "output_type": "display_data",
          "data": {
            "text/plain": [
              "<Figure size 432x288 with 1 Axes>"
            ],
            "image/png": "[encoded data removed]"
          },
          "metadata": {
            "needs_background": "light"
          }
        }
      ],
      "source": [
        "#Graficas\n",
        "\n",
        "#----------------VGG16---------------------\n",
        "# summarize history for accuracy\n",
        "print(\"----------------VGG16---------------------\")\n",
        "plt.plot(history.history['accuracy'])\n",
        "plt.plot(history.history['val_accuracy'])\n",
        "plt.title('model accuracy')\n",
        "plt.ylabel('accuracy')\n",
        "plt.xlabel('epoch')\n",
        "plt.legend(['train', 'test'], loc='upper left')\n",
        "plt.show()\n",
        "# summarize history for loss\n",
        "plt.plot(history.history['loss'])\n",
        "plt.plot(history.history['val_loss'])\n",
        "plt.title('model loss')\n",
        "plt.ylabel('loss')\n",
        "plt.xlabel('epoch')\n",
        "plt.legend(['train', 'test'], loc='upper left')\n",
        "plt.show()"
      ]
    },
    {
      "cell_type": "markdown",
      "metadata": {
        "id": "gs2_NpgEaUql"
      },
      "source": []
    }
  ],
  "metadata": {
    "accelerator": "GPU",
    "colab": {
      "provenance": []
    },
    "kernelspec": {
      "display_name": "Python 3",
      "name": "python3"
    },
    "language_info": {
      "name": "python"
    }
  },
  "nbformat": 4,
  "nbformat_minor": 0
}